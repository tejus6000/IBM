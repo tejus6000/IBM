{
  "metadata": {
    "language_info": {
      "codemirror_mode": {
        "name": "python",
        "version": 3
      },
      "file_extension": ".py",
      "mimetype": "text/x-python",
      "name": "python",
      "nbconvert_exporter": "python",
      "pygments_lexer": "ipython3",
      "version": "3.8"
    },
    "kernelspec": {
      "name": "python",
      "display_name": "Python (Pyodide)",
      "language": "python"
    }
  },
  "nbformat_minor": 4,
  "nbformat": 4,
  "cells": [
    {
      "cell_type": "markdown",
      "source": "Jupyter Lite Notebook",
      "metadata": {}
    },
    {
      "cell_type": "markdown",
      "source": "Introduction: Welcome to my final project on Data Science Tools",
      "metadata": {}
    },
    {
      "cell_type": "markdown",
      "source": "Data Science Languages:\n    Python\n    R\n    SQL\n    Julia\n    Java\n    C/C++\n    Scala",
      "metadata": {}
    },
    {
      "cell_type": "markdown",
      "source": "Data Science Libraries:\n    NumPy\n    Pandas\n    Seaborn\n    Scikit-learn\n    TensorFlow\n    PyTorch\n    dplyr\n    ggplot\n    caret\n    pandasql\n    sqlite",
      "metadata": {}
    },
    {
      "cell_type": "markdown",
      "source": "| Tool            | Description                                                  |\n|-----------------|--------------------------------------------------------------|\n| Python          | General-purpose programming language with rich libraries      |\n| R               | Statistical programming language and environment              |\n| SQL             | Language for managing and analyzing relational databases      |\n| Julia           | High-level, high-performance programming language             |\n| Scala           | General-purpose programming language with strong type system  |\n| Tableau         | Data visualization and business intelligence platform         |\n| Apache Spark    | Distributed computing system and data processing framework    |\n| Jupyter Notebook| Interactive computing environment for data analysis           |\n| scikit-learn    | Machine learning library for Python                           |\n| caret           | R package for machine learning and data mining                |",
      "metadata": {}
    },
    {
      "cell_type": "markdown",
      "source": "Arithmetic Expressions Examples:\n\n1. Addition:\n   - `2 + 3` evaluates to `5`\n\n2. Subtraction:\n   - `5 - 2` evaluates to `3`\n\n3. Multiplication:\n   - `2 * 3` evaluates to `6`\n\n4. Division:\n   - `10 / 2` evaluates to `5`",
      "metadata": {}
    },
    {
      "cell_type": "code",
      "source": "# Multiply and Add Numbers\na = 5\nb = 3\n\n# Multiply\nresult_multiply = a * b\nprint(\"Multiplication Result:\", result_multiply)\n\n# Add\nresult_add = a + b\nprint(\"Addition Result:\", result_add)\n",
      "metadata": {
        "trusted": true
      },
      "execution_count": 3,
      "outputs": [
        {
          "name": "stdout",
          "text": "Multiplication Result: 15\nAddition Result: 8\n",
          "output_type": "stream"
        }
      ]
    },
    {
      "cell_type": "code",
      "source": "# Convert Minutes to Hours\nminutes = 150\n\n# Calculate hours\nhours = minutes / 60\n\n# Display the result\nprint(\"Minutes:\", minutes)\nprint(\"Hours:\", hours)",
      "metadata": {
        "trusted": true
      },
      "execution_count": 4,
      "outputs": [
        {
          "name": "stdout",
          "text": "Minutes: 150\nHours: 2.5\n",
          "output_type": "stream"
        }
      ]
    },
    {
      "cell_type": "markdown",
      "source": "## Objectives\n\n- Gain a solid understanding of data science principles and techniques.\n- Learn various data manipulation and analysis methods.\n- Develop skills in machine learning algorithms and predictive modeling.\n- Stay updated with the latest trends and advancements in the field.\n- Collaborate with peers and contribute to real-world data science projects.\n",
      "metadata": {}
    },
    {
      "cell_type": "code",
      "source": "",
      "metadata": {},
      "execution_count": null,
      "outputs": []
    }
  ]
}